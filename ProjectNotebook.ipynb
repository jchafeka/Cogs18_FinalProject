{
 "cells": [
  {
   "cell_type": "markdown",
   "metadata": {},
   "source": [
    "# Movie Reccomender \n",
    "\n",
    "This is a chatbot/data analysis hybrid project that will parse through IMDB movie data and allow users to answer certain questions to get movie reccomendations. I am using certain pandas features to clean and pull the data and using some elements I learned from the chatbot homework assignment. I created 5 different functions and used for loops, conditionals, and indexing skills from class.\n",
    "\n",
    "### Data\n",
    "    - Pulled IMDB Movie Data from Kaggle\n",
    "    - https://www.kaggle.com/stefanoleone992/imdb-extensive-dataset"
   ]
  },
  {
   "cell_type": "code",
   "execution_count": null,
   "metadata": {},
   "outputs": [],
   "source": [
    "!pytest test_functions/"
   ]
  },
  {
   "cell_type": "code",
   "execution_count": null,
   "metadata": {},
   "outputs": [],
   "source": [
    "#import necessary packages \n",
    "\n",
    "import random\n",
    "import pandas as pd\n",
    "import numpy as np"
   ]
  },
  {
   "cell_type": "code",
   "execution_count": null,
   "metadata": {},
   "outputs": [],
   "source": [
    "#upload data, drop columns I don't need, and drop all null and nan values\n",
    "\n",
    "movie_data = pd.read_csv('IMDb movies.csv')\n",
    "movie_data  = movie_data.drop(columns = ['imdb_title_id', 'usa_gross_income', 'worlwide_gross_income', \n",
    "                                         'original_title', 'date_published', 'votes', 'budget', 'metascore', \n",
    "                                         'avg_vote', 'reviews_from_critics', 'reviews_from_users'])"
   ]
  },
  {
   "cell_type": "code",
   "execution_count": null,
   "metadata": {},
   "outputs": [],
   "source": [
    "#turn entire dataframe into lower case values to make looping easier\n",
    "\n",
    "movie_data = movie_data.apply(lambda x: x.astype(str).str.lower())"
   ]
  },
  {
   "cell_type": "code",
   "execution_count": null,
   "metadata": {},
   "outputs": [],
   "source": [
    "#change data types \n",
    "\n",
    "movie_data = movie_data.astype('str')\n",
    "movie_data['duration'] = pd.to_numeric(movie_data['duration'])"
   ]
  },
  {
   "cell_type": "code",
   "execution_count": null,
   "metadata": {},
   "outputs": [],
   "source": [
    "# Function No. 1: checks if input words match lists \n",
    "\n",
    "def check_list(word, temp_list):\n",
    "    \"takes in a string and a group of string returns boolean\"\n",
    "    if word in temp_list:\n",
    "        return True\n",
    "    else:\n",
    "        return False"
   ]
  },
  {
   "cell_type": "code",
   "execution_count": null,
   "metadata": {},
   "outputs": [],
   "source": [
    "#Function No. 2: movie titles that match genre language\n",
    "\n",
    "def genre(enter_genre):\n",
    "    \"takes in input string and returns a list of movie titles that match the genre of the input\"\n",
    "    genre_list = []\n",
    "    for i in range(len(movie_data)):\n",
    "        if check_list(enter_genre, movie_data['genre'].iloc[i]): \n",
    "            genre_list.append(movie_data['title'].iloc[i])\n",
    "        else:\n",
    "            continue\n",
    "    return genre_list"
   ]
  },
  {
   "cell_type": "code",
   "execution_count": null,
   "metadata": {},
   "outputs": [],
   "source": [
    "#Function No. 3: movie titles that match input duration\n",
    "def duration(enter_duration):\n",
    "    \"takes in an input string and returns a list of movie titles that match (or are less than) the duration of the input\"\n",
    "    duration_list = []\n",
    "    for i in range(len(movie_data)):\n",
    "        if movie_data['duration'].iloc[i] <= int(enter_duration): \n",
    "            duration_list.append(movie_data['title'].iloc[i])\n",
    "        else:\n",
    "            continue\n",
    "    return duration_list"
   ]
  },
  {
   "cell_type": "code",
   "execution_count": null,
   "metadata": {},
   "outputs": [],
   "source": [
    "#Function No. 4: movie titles that match input language\n",
    "\n",
    "def language(enter_language):\n",
    "    \"takes in an input string and loops through DataFrame to return a list of movie titles that match the language of the input\"\n",
    "    language_list = []\n",
    "    for i in range(len(movie_data)):\n",
    "        if check_list(enter_language, movie_data['language'].iloc[i]): \n",
    "            language_list.append(movie_data['title'].iloc[i])\n",
    "        else:\n",
    "            continue\n",
    "    return language_list"
   ]
  },
  {
   "cell_type": "code",
   "execution_count": null,
   "metadata": {},
   "outputs": [],
   "source": [
    "#Function No. 5: filtering from the original DataFrame\n",
    "def filter_movie_data(genre_list, duration_list, lang_list):\n",
    "    \"takes in three string and filters out the original DataFrame until we are only left with movie titles that are in all three lists\"\n",
    "    genre_filtered_movie_data = movie_data[movie_data['title'].isin(genre_list)]\n",
    "    duration_filtered_movie_data = genre_filtered_movie_data[genre_filtered_movie_data['title'].isin(duration_list)]\n",
    "    lang_filtered_movie_data = duration_filtered_movie_data[duration_filtered_movie_data['title'].isin(lang_list)]\n",
    "    return lang_filtered_movie_data.apply(lambda x: x.astype(str).str.upper())"
   ]
  },
  {
   "cell_type": "code",
   "execution_count": null,
   "metadata": {},
   "outputs": [],
   "source": [
    "#Function No. 6: Reccomendations!\n",
    "\n",
    "def movie_recc(): \n",
    "    \"prompts you with three questions and returns a dataframe with movie reccomendations according to your inputs\"\n",
    "    \n",
    "    enter_genre = input('What genre of movie do you want to watch? ')\n",
    "        \n",
    "    enter_duration = input('How much time do you have to watch a movie? ')\n",
    "        \n",
    "    enter_language = input('What language do you want the movie to be? ')\n",
    "        \n",
    "    return filter_movie_data(genre(enter_genre), duration(enter_duration), language(enter_language))"
   ]
  },
  {
   "cell_type": "code",
   "execution_count": null,
   "metadata": {},
   "outputs": [],
   "source": [
    "movie_recc()"
   ]
  },
  {
   "cell_type": "markdown",
   "metadata": {},
   "source": [
    "## Conclusion\n",
    "Though my project may seem simple, it took a lot of time to get all the loops correct. I struggled at first with making sure the functions I created would account for various types of inputs. For example, I wanted it to recognize both 'rom' and 'romance' or 'english' and 'english.' I also struggled to filter out only the movie titles that were in all 3 lists. Finally, the combination of indexing and looping took me a while to figure out. When working with a very large data set it is hard to account for every single variation in the data. "
   ]
  },
  {
   "cell_type": "code",
   "execution_count": null,
   "metadata": {},
   "outputs": [],
   "source": []
  }
 ],
 "metadata": {
  "kernelspec": {
   "display_name": "Python 3",
   "language": "python",
   "name": "python3"
  },
  "language_info": {
   "codemirror_mode": {
    "name": "ipython",
    "version": 3
   },
   "file_extension": ".py",
   "mimetype": "text/x-python",
   "name": "python",
   "nbconvert_exporter": "python",
   "pygments_lexer": "ipython3",
   "version": "3.6.7"
  }
 },
 "nbformat": 4,
 "nbformat_minor": 2
}
