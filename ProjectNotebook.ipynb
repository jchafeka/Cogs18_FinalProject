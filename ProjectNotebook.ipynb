{
 "cells": [
  {
   "cell_type": "markdown",
   "metadata": {},
   "source": [
    "# Movie Reccomender \n",
    "\n",
    "This is a chatbot/data analysis hybrid project that will parse through IMDB movie data and allow users to answer certain questions to get movie reccomendations. I am using certain pandas features to clean and pull the data and using some elements I learned from the chatbot homework assignment. I created 5 different functions and used for loops, conditionals, and indexing skills from class.\n",
    "\n",
    "### Data\n",
    "    - Pulled IMDB Movie Data from Kaggle\n",
    "    - https://www.kaggle.com/stefanoleone992/imdb-extensive-dataset"
   ]
  },
  {
   "cell_type": "code",
   "execution_count": null,
   "metadata": {},
   "outputs": [],
   "source": [
    "!pytest test_functions/"
   ]
  },
  {
   "cell_type": "code",
   "execution_count": null,
   "metadata": {},
   "outputs": [],
   "source": [
    "#import necessary packages \n",
    "\n",
    "import random\n",
    "import pandas as pd\n",
    "import numpy as np"
   ]
  },
  {
   "cell_type": "code",
   "execution_count": null,
   "metadata": {},
   "outputs": [],
   "source": [
    "#upload data, drop columns I don't need, and drop all null and nan values\n",
    "\n",
    "movie_data = pd.read_csv('IMDb movies.csv')\n",
    "movie_data  = movie_data.drop(columns = ['imdb_title_id', 'usa_gross_income', 'worlwide_gross_income', \n",
    "                                         'original_title', 'date_published', 'votes', 'budget', 'metascore', \n",
    "                                         'avg_vote', 'reviews_from_critics', 'reviews_from_users'])"
   ]
  },
  {
   "cell_type": "code",
   "execution_count": null,
   "metadata": {},
   "outputs": [],
   "source": [
    "#turn entire dataframe into lower case values to make looping easier\n",
    "\n",
    "movie_data = movie_data.apply(lambda x: x.astype(str).str.lower())"
   ]
  },
  {
   "cell_type": "code",
   "execution_count": null,
   "metadata": {},
   "outputs": [],
   "source": [
    "#change data types \n",
    "\n",
    "movie_data = movie_data.astype('str')\n",
    "movie_data['duration'] = pd.to_numeric(movie_data['duration'])"
   ]
  },
  {
   "cell_type": "code",
   "execution_count": null,
   "metadata": {},
   "outputs": [],
   "source": [
    "# Function No. 1: checks if input words match lists \n",
    "\n",
    "def check_list(word, temp_list):\n",
    "    if word in temp_list:\n",
    "        return True\n",
    "    else:\n",
    "        return False"
   ]
  },
  {
   "cell_type": "code",
   "execution_count": null,
   "metadata": {},
   "outputs": [],
   "source": [
    "#Function No. 2: loops through entire DataFrame to create a list that will only hold movie titles that match the genre you input \n",
    "\n",
    "def genre(enter_genre):\n",
    "    genre_list = []\n",
    "    for i in range(len(movie_data)):\n",
    "        if check_list(enter_genre, movie_data['genre'].iloc[i]): \n",
    "            genre_list.append(movie_data['title'].iloc[i])\n",
    "        else:\n",
    "            continue\n",
    "    return genre_list"
   ]
  },
  {
   "cell_type": "code",
   "execution_count": null,
   "metadata": {},
   "outputs": [],
   "source": [
    "#Function No. 3: loops through entire DataFrame to create a list that will only hold movie titles that match the duration you input\n",
    "\n",
    "def duration(enter_duration):\n",
    "    duration_list = []\n",
    "    for i in range(len(movie_data)):\n",
    "        if movie_data['duration'].iloc[i] <= int(enter_duration): \n",
    "            duration_list.append(movie_data['title'].iloc[i])\n",
    "        else:\n",
    "            continue\n",
    "    return duration_list"
   ]
  },
  {
   "cell_type": "code",
   "execution_count": null,
   "metadata": {},
   "outputs": [],
   "source": [
    "#Function No. 4: loops through entire DataFrame to create a list that will only hold movie titles that match the language you input \n",
    "\n",
    "def language(enter_language):\n",
    "    language_list = []\n",
    "    for i in range(len(movie_data)):\n",
    "        if check_list(enter_language, movie_data['language'].iloc[i]): \n",
    "            language_list.append(movie_data['title'].iloc[i])\n",
    "        else:\n",
    "            continue\n",
    "    return language_list"
   ]
  },
  {
   "cell_type": "code",
   "execution_count": null,
   "metadata": {},
   "outputs": [],
   "source": [
    "#Function No. 5: filters out original DataFrame so that we only see movie titles that are included in all three lists we created above\n",
    "\n",
    "def filter_movie_data(genre_list, duration_list, lang_list):\n",
    "    genre_filtered_movie_data = movie_data[movie_data['title'].isin(genre_list)]\n",
    "    duration_filtered_movie_data = genre_filtered_movie_data[genre_filtered_movie_data['title'].isin(duration_list)]\n",
    "    lang_filtered_movie_data = duration_filtered_movie_data[duration_filtered_movie_data['title'].isin(lang_list)]\n",
    "    return lang_filtered_movie_data.apply(lambda x: x.astype(str).str.upper())"
   ]
  },
  {
   "cell_type": "code",
   "execution_count": null,
   "metadata": {},
   "outputs": [],
   "source": [
    "#Function No. 6: function that will prompt you to answer questions and give you reccomendations accordingly\n",
    "\n",
    "def movie_recc(): \n",
    "    enter_genre = input('What genre of movie do you want to watch? ')\n",
    "        \n",
    "    enter_duration = input('How much time do you have to watch a movie? ')\n",
    "        \n",
    "    enter_language = input('What language do you want the movie to be? ')\n",
    "        \n",
    "    return filter_movie_data(genre(enter_genre), duration(enter_duration), language(enter_language))"
   ]
  },
  {
   "cell_type": "code",
   "execution_count": null,
   "metadata": {},
   "outputs": [],
   "source": [
    "movie_recc()"
   ]
  },
  {
   "cell_type": "markdown",
   "metadata": {},
   "source": [
    "## Conclusion\n",
    "Though my project may seem simple, it took a lot of time to get all the loops correct. I struggled at first with making sure the functions I created would account for various types of inputs. For example, I wanted it to recognize both 'rom' and 'romance' or 'english' and 'english.' I also struggled to filter out only the movie titles that were in all 3 lists. Finally, the combination of indexing and looping took me a while to figure out. When working with a very large data set it is hard to account for every single variation in the data. "
   ]
  }
 ],
 "metadata": {
  "kernelspec": {
   "display_name": "Python 3",
   "language": "python",
   "name": "python3"
  },
  "language_info": {
   "codemirror_mode": {
    "name": "ipython",
    "version": 3
   },
   "file_extension": ".py",
   "mimetype": "text/x-python",
   "name": "python",
   "nbconvert_exporter": "python",
   "pygments_lexer": "ipython3",
   "version": "3.6.7"
  }
 },
 "nbformat": 4,
 "nbformat_minor": 2
}
